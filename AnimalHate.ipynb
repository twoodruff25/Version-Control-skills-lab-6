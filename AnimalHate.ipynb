{
 "cells": [
  {
   "cell_type": "code",
   "execution_count": 1,
   "metadata": {},
   "outputs": [
    {
     "name": "stdout",
     "output_type": "stream",
     "text": [
      "Alex's least favorite animal is: Dolphin\n",
      "The computers least favorite animal is: Monkey\n"
     ]
    }
   ],
   "source": [
    "from random import randint \n",
    "\n",
    "list = ['Elephant', 'Cat', 'Dog', 'Squirrel', 'Crow', 'Frog', 'Monkey', 'Ape', 'Lizard', 'Ox', 'Buffalo', 'Tucan', 'Otter', 'Bison', 'Penguin', 'Giraffe', 'Bunny', 'Fish', 'Dolphin', 'Turtle', 'Crocodile']\n",
    "name = input(\"Please enter your name\")\n",
    "animal = input(\"What is your least favorite animal?\")\n",
    "print(name, \"'s least favorite animal is: \", animal, sep='')\n",
    "companimal = list[randint(0,len(list)-1)]\n",
    "print('The computers least favorite animal is: ', companimal, sep='')\n",
    "if animal == companimal: \n",
    "    print(\"You both like the same animal!\")\n",
    "\n"
   ]
  },
  {
   "cell_type": "code",
   "execution_count": null,
   "metadata": {},
   "outputs": [],
   "source": []
  }
 ],
 "metadata": {
  "kernelspec": {
   "display_name": "Python 3",
   "language": "python",
   "name": "python3"
  },
  "language_info": {
   "codemirror_mode": {
    "name": "ipython",
    "version": 3
   },
   "file_extension": ".py",
   "mimetype": "text/x-python",
   "name": "python",
   "nbconvert_exporter": "python",
   "pygments_lexer": "ipython3",
   "version": "3.10.1"
  }
 },
 "nbformat": 4,
 "nbformat_minor": 4
}
